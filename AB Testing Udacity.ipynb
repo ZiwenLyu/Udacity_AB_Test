{
 "cells": [
  {
   "cell_type": "markdown",
   "id": "8644abea",
   "metadata": {},
   "source": [
    "## Measuring Variability"
   ]
  },
  {
   "cell_type": "code",
   "execution_count": 95,
   "id": "583c66c8",
   "metadata": {},
   "outputs": [],
   "source": [
    "import math\n",
    "import numpy as np\n",
    "import pandas as pd"
   ]
  },
  {
   "cell_type": "code",
   "execution_count": 4,
   "id": "d61161c3",
   "metadata": {},
   "outputs": [
    {
     "data": {
      "text/html": [
       "<div>\n",
       "<style scoped>\n",
       "    .dataframe tbody tr th:only-of-type {\n",
       "        vertical-align: middle;\n",
       "    }\n",
       "\n",
       "    .dataframe tbody tr th {\n",
       "        vertical-align: top;\n",
       "    }\n",
       "\n",
       "    .dataframe thead th {\n",
       "        text-align: right;\n",
       "    }\n",
       "</style>\n",
       "<table border=\"1\" class=\"dataframe\">\n",
       "  <thead>\n",
       "    <tr style=\"text-align: right;\">\n",
       "      <th></th>\n",
       "      <th>metric</th>\n",
       "      <th>baseline_values</th>\n",
       "      <th>dmin</th>\n",
       "    </tr>\n",
       "  </thead>\n",
       "  <tbody>\n",
       "    <tr>\n",
       "      <th>0</th>\n",
       "      <td>Unique cookies to view course overview page pe...</td>\n",
       "      <td>40000.000000</td>\n",
       "      <td>3000.0000</td>\n",
       "    </tr>\n",
       "    <tr>\n",
       "      <th>1</th>\n",
       "      <td>Unique cookies to click \"Start free trial\" per...</td>\n",
       "      <td>3200.000000</td>\n",
       "      <td>50.0000</td>\n",
       "    </tr>\n",
       "    <tr>\n",
       "      <th>2</th>\n",
       "      <td>Enrollments per day:</td>\n",
       "      <td>660.000000</td>\n",
       "      <td>240.0000</td>\n",
       "    </tr>\n",
       "    <tr>\n",
       "      <th>3</th>\n",
       "      <td>Click-through-probability on \"Start free trial\":</td>\n",
       "      <td>0.080000</td>\n",
       "      <td>0.0100</td>\n",
       "    </tr>\n",
       "    <tr>\n",
       "      <th>4</th>\n",
       "      <td>Probability of enrolling, given click:</td>\n",
       "      <td>0.206250</td>\n",
       "      <td>0.0100</td>\n",
       "    </tr>\n",
       "    <tr>\n",
       "      <th>5</th>\n",
       "      <td>Probability of payment, given enroll:</td>\n",
       "      <td>0.530000</td>\n",
       "      <td>0.0100</td>\n",
       "    </tr>\n",
       "    <tr>\n",
       "      <th>6</th>\n",
       "      <td>Probability of payment, given click</td>\n",
       "      <td>0.109313</td>\n",
       "      <td>0.0075</td>\n",
       "    </tr>\n",
       "  </tbody>\n",
       "</table>\n",
       "</div>"
      ],
      "text/plain": [
       "                                              metric  baseline_values  \\\n",
       "0  Unique cookies to view course overview page pe...     40000.000000   \n",
       "1  Unique cookies to click \"Start free trial\" per...      3200.000000   \n",
       "2                               Enrollments per day:       660.000000   \n",
       "3   Click-through-probability on \"Start free trial\":         0.080000   \n",
       "4             Probability of enrolling, given click:         0.206250   \n",
       "5              Probability of payment, given enroll:         0.530000   \n",
       "6                Probability of payment, given click         0.109313   \n",
       "\n",
       "        dmin  \n",
       "0  3000.0000  \n",
       "1    50.0000  \n",
       "2   240.0000  \n",
       "3     0.0100  \n",
       "4     0.0100  \n",
       "5     0.0100  \n",
       "6     0.0075  "
      ]
     },
     "execution_count": 4,
     "metadata": {},
     "output_type": "execute_result"
    }
   ],
   "source": [
    "# read the baseline values\n",
    "\n",
    "baseline_v = pd.read_csv('Final Project Baseline Values.csv',index_col=False,header = None, names = ['metric','baseline_values'])\n",
    "baseline_v['dmin'] = [3000,50,240,0.01,0.01,0.01,0.0075]\n",
    "baseline_v"
   ]
  },
  {
   "cell_type": "code",
   "execution_count": 14,
   "id": "9a56ae98",
   "metadata": {},
   "outputs": [],
   "source": [
    "#the number of unique cookies visit course pages\n",
    "cv = baseline_v['baseline_values'][0]\n",
    "\n",
    "#the number of unique cookies click \"start free trial\"\n",
    "cc = baseline_v['baseline_values'][1]\n",
    "\n",
    "#the number of enrollments\n",
    "id = baseline_v['baseline_values'][2]\n",
    "\n",
    "#click through probability\n",
    "ctp = baseline_v['baseline_values'][3]\n",
    "\n",
    "# gross_convention = number of unique user-ids / number of unique cookies click \"start free trail\"\n",
    "gc = baseline_v['baseline_values'][4]\n",
    "\n",
    "# retention = number of unique user-ids past the 14-day boundary / number of unique user-ids complete checkout.\n",
    "r = baseline_v['baseline_values'][5]\n",
    "\n",
    "# net_conversion = number of unique user-ids complete checkout / number of unique cookies click \"start free trial\"\n",
    "nc = baseline_v['baseline_values'][6]"
   ]
  },
  {
   "cell_type": "code",
   "execution_count": 22,
   "id": "07901dd2",
   "metadata": {},
   "outputs": [
    {
     "name": "stdout",
     "output_type": "stream",
     "text": [
      "gross_convetion SE: 0.0202\n",
      "retention SE: 0.0549\n",
      "net_convetion SE: 0.0156\n"
     ]
    }
   ],
   "source": [
    "#calculate the standard errors\n",
    "se_gc = np.sqrt(gc*(1-gc)/(5000*cc/cv))\n",
    "se_r = np.sqrt(r*(1-r)/(5000*id/cv))\n",
    "se_nc = np.sqrt(nc*(1-nc)/(5000*cc/cv))\n",
    "\n",
    "print('gross_convetion SE:', round(se_gc,4))\n",
    "print('retention SE:', round(se_r,4))\n",
    "print('net_convetion SE:', round(se_nc,4))"
   ]
  },
  {
   "cell_type": "markdown",
   "id": "4f52b4c4",
   "metadata": {},
   "source": [
    "## Sizing"
   ]
  },
  {
   "cell_type": "markdown",
   "id": "66ce8dec",
   "metadata": {},
   "source": [
    "So we will compute the appropriate number of samples by using standard errors to ensure the size and the power of metrics. (The online calculator)"
   ]
  },
  {
   "cell_type": "markdown",
   "id": "5205135a",
   "metadata": {},
   "source": [
    "#### Gross Conversion:\n",
    "\n",
    "Baseline Conversion: 20.625%\n",
    "\n",
    "Minimum Detectable Effect: 1%\n",
    "\n",
    "Alpha: 5%\n",
    "\n",
    "Beta: 20% -Sensitivity (1 - Beta): 80%\n",
    "\n",
    "Sample Size: 25,835*2 = 51,670 clicks\n",
    "\n",
    "Pageviews needed:  sample clicks/(clicks/pageviews) = 645,875\n",
    "    \n",
    "#### Retention:\n",
    "\n",
    "Baseline Conversion: 53%\n",
    "\n",
    "Minimum Detectable Effect: 1%\n",
    "\n",
    "Alpha: 5%\n",
    "\n",
    "Beta: 20%\n",
    "\n",
    "Sensitivity (1 - Beta): 80%\n",
    "\n",
    "Sample size: 39,115*2 = 78,230 enrollments\n",
    "\n",
    "Pageviews needed: sample enrollments/(enrollments/pageviews) = 4,741,212\n",
    "    \n",
    "#### Net Conversion:\n",
    "\n",
    "Baseline Conversion: 10.9313%\n",
    "\n",
    "Minimum Detectable Effect: 0.75%\n",
    "\n",
    "Alpha: 5% -Beta: 20%\n",
    "\n",
    "Sensitivity (1 - Beta): 80%\n",
    "\n",
    "Sample size: 27,413*2 = 54,826 clicks\n",
    "\n",
    "Pageviews needed: sample clicks/(clicks/pageviews) = 685,325"
   ]
  },
  {
   "cell_type": "markdown",
   "id": "51626816",
   "metadata": {},
   "source": [
    "## Duration and Exposure"
   ]
  },
  {
   "cell_type": "code",
   "execution_count": 24,
   "id": "5deff73f",
   "metadata": {},
   "outputs": [
    {
     "name": "stdout",
     "output_type": "stream",
     "text": [
      "118.5303\n"
     ]
    }
   ],
   "source": [
    "sample_size = 4741212\n",
    "\n",
    "# If we divert 100% of traffic per day to the experiment, we will need:\n",
    "fraction_of_traffic = 1\n",
    "duration_100 = sample_size/cv\n",
    "print(duration_100)"
   ]
  },
  {
   "cell_type": "markdown",
   "id": "2214732c",
   "metadata": {},
   "source": [
    "That's too risky for Udacity. If the experiment is harmful to user experience, the long-period experiment will incur great frustration among students and cause huge business loss.\n",
    "\n",
    "Besides, it's impossible to run other experiments during the 4 months.\n",
    "\n",
    "Since the net conversion metric can also measure the effectiveness of the free trial screener function after the 14-day boundary, so we choose to discard the retention metric and reduce our sample size."
   ]
  },
  {
   "cell_type": "code",
   "execution_count": 25,
   "id": "e30bf2b0",
   "metadata": {},
   "outputs": [
    {
     "name": "stdout",
     "output_type": "stream",
     "text": [
      "17.133125\n"
     ]
    }
   ],
   "source": [
    "sample_size = 685325\n",
    "\n",
    "# If we divert 100% of traffic per day to the experiment, we will need (days):\n",
    "fraction_of_traffic = 1\n",
    "duration_100 = sample_size/cv\n",
    "print(duration_100)"
   ]
  },
  {
   "cell_type": "code",
   "execution_count": 74,
   "id": "2bbc29ac",
   "metadata": {},
   "outputs": [
    {
     "name": "stdout",
     "output_type": "stream",
     "text": [
      "22.844166666666666\n"
     ]
    }
   ],
   "source": [
    "# If we divert 75% of traffic per day to the experiment, we will need (days):\n",
    "fraction_of_traffic = 0.75\n",
    "duration_50 = sample_size/(cv*fraction_of_traffic)\n",
    "print(duration_50)"
   ]
  },
  {
   "cell_type": "markdown",
   "id": "c1574581",
   "metadata": {},
   "source": [
    "## Sanity Check\n",
    "As our invariant metrics are number of coockies, number of clicks, and click-through probability, we will run sanity check for the three metrics."
   ]
  },
  {
   "cell_type": "code",
   "execution_count": 41,
   "id": "f73df6bf",
   "metadata": {},
   "outputs": [
    {
     "data": {
      "text/html": [
       "<div>\n",
       "<style scoped>\n",
       "    .dataframe tbody tr th:only-of-type {\n",
       "        vertical-align: middle;\n",
       "    }\n",
       "\n",
       "    .dataframe tbody tr th {\n",
       "        vertical-align: top;\n",
       "    }\n",
       "\n",
       "    .dataframe thead th {\n",
       "        text-align: right;\n",
       "    }\n",
       "</style>\n",
       "<table border=\"1\" class=\"dataframe\">\n",
       "  <thead>\n",
       "    <tr style=\"text-align: right;\">\n",
       "      <th></th>\n",
       "      <th>Date</th>\n",
       "      <th>Pageviews</th>\n",
       "      <th>Clicks</th>\n",
       "      <th>Enrollments</th>\n",
       "      <th>Payments</th>\n",
       "    </tr>\n",
       "  </thead>\n",
       "  <tbody>\n",
       "    <tr>\n",
       "      <th>0</th>\n",
       "      <td>Sat, Oct 11</td>\n",
       "      <td>7716</td>\n",
       "      <td>686</td>\n",
       "      <td>105.0</td>\n",
       "      <td>34.0</td>\n",
       "    </tr>\n",
       "    <tr>\n",
       "      <th>1</th>\n",
       "      <td>Sun, Oct 12</td>\n",
       "      <td>9288</td>\n",
       "      <td>785</td>\n",
       "      <td>116.0</td>\n",
       "      <td>91.0</td>\n",
       "    </tr>\n",
       "    <tr>\n",
       "      <th>2</th>\n",
       "      <td>Mon, Oct 13</td>\n",
       "      <td>10480</td>\n",
       "      <td>884</td>\n",
       "      <td>145.0</td>\n",
       "      <td>79.0</td>\n",
       "    </tr>\n",
       "    <tr>\n",
       "      <th>3</th>\n",
       "      <td>Tue, Oct 14</td>\n",
       "      <td>9867</td>\n",
       "      <td>827</td>\n",
       "      <td>138.0</td>\n",
       "      <td>92.0</td>\n",
       "    </tr>\n",
       "    <tr>\n",
       "      <th>4</th>\n",
       "      <td>Wed, Oct 15</td>\n",
       "      <td>9793</td>\n",
       "      <td>832</td>\n",
       "      <td>140.0</td>\n",
       "      <td>94.0</td>\n",
       "    </tr>\n",
       "  </tbody>\n",
       "</table>\n",
       "</div>"
      ],
      "text/plain": [
       "          Date  Pageviews  Clicks  Enrollments  Payments\n",
       "0  Sat, Oct 11       7716     686        105.0      34.0\n",
       "1  Sun, Oct 12       9288     785        116.0      91.0\n",
       "2  Mon, Oct 13      10480     884        145.0      79.0\n",
       "3  Tue, Oct 14       9867     827        138.0      92.0\n",
       "4  Wed, Oct 15       9793     832        140.0      94.0"
      ]
     },
     "execution_count": 41,
     "metadata": {},
     "output_type": "execute_result"
    }
   ],
   "source": [
    "experiment_df = pd.read_csv('Final Project Results - Experiment.csv')\n",
    "experiment_df.head()"
   ]
  },
  {
   "cell_type": "code",
   "execution_count": 42,
   "id": "48b8cbc8",
   "metadata": {},
   "outputs": [
    {
     "data": {
      "text/html": [
       "<div>\n",
       "<style scoped>\n",
       "    .dataframe tbody tr th:only-of-type {\n",
       "        vertical-align: middle;\n",
       "    }\n",
       "\n",
       "    .dataframe tbody tr th {\n",
       "        vertical-align: top;\n",
       "    }\n",
       "\n",
       "    .dataframe thead th {\n",
       "        text-align: right;\n",
       "    }\n",
       "</style>\n",
       "<table border=\"1\" class=\"dataframe\">\n",
       "  <thead>\n",
       "    <tr style=\"text-align: right;\">\n",
       "      <th></th>\n",
       "      <th>Date</th>\n",
       "      <th>Pageviews</th>\n",
       "      <th>Clicks</th>\n",
       "      <th>Enrollments</th>\n",
       "      <th>Payments</th>\n",
       "    </tr>\n",
       "  </thead>\n",
       "  <tbody>\n",
       "    <tr>\n",
       "      <th>0</th>\n",
       "      <td>Sat, Oct 11</td>\n",
       "      <td>7723</td>\n",
       "      <td>687</td>\n",
       "      <td>134.0</td>\n",
       "      <td>70.0</td>\n",
       "    </tr>\n",
       "    <tr>\n",
       "      <th>1</th>\n",
       "      <td>Sun, Oct 12</td>\n",
       "      <td>9102</td>\n",
       "      <td>779</td>\n",
       "      <td>147.0</td>\n",
       "      <td>70.0</td>\n",
       "    </tr>\n",
       "    <tr>\n",
       "      <th>2</th>\n",
       "      <td>Mon, Oct 13</td>\n",
       "      <td>10511</td>\n",
       "      <td>909</td>\n",
       "      <td>167.0</td>\n",
       "      <td>95.0</td>\n",
       "    </tr>\n",
       "    <tr>\n",
       "      <th>3</th>\n",
       "      <td>Tue, Oct 14</td>\n",
       "      <td>9871</td>\n",
       "      <td>836</td>\n",
       "      <td>156.0</td>\n",
       "      <td>105.0</td>\n",
       "    </tr>\n",
       "    <tr>\n",
       "      <th>4</th>\n",
       "      <td>Wed, Oct 15</td>\n",
       "      <td>10014</td>\n",
       "      <td>837</td>\n",
       "      <td>163.0</td>\n",
       "      <td>64.0</td>\n",
       "    </tr>\n",
       "  </tbody>\n",
       "</table>\n",
       "</div>"
      ],
      "text/plain": [
       "          Date  Pageviews  Clicks  Enrollments  Payments\n",
       "0  Sat, Oct 11       7723     687        134.0      70.0\n",
       "1  Sun, Oct 12       9102     779        147.0      70.0\n",
       "2  Mon, Oct 13      10511     909        167.0      95.0\n",
       "3  Tue, Oct 14       9871     836        156.0     105.0\n",
       "4  Wed, Oct 15      10014     837        163.0      64.0"
      ]
     },
     "execution_count": 42,
     "metadata": {},
     "output_type": "execute_result"
    }
   ],
   "source": [
    "control_df = pd.read_csv('Final Project Results - Control.csv')\n",
    "control_df.head()"
   ]
  },
  {
   "cell_type": "code",
   "execution_count": 44,
   "id": "70b40c0a",
   "metadata": {},
   "outputs": [
    {
     "data": {
      "text/html": [
       "<div>\n",
       "<style scoped>\n",
       "    .dataframe tbody tr th:only-of-type {\n",
       "        vertical-align: middle;\n",
       "    }\n",
       "\n",
       "    .dataframe tbody tr th {\n",
       "        vertical-align: top;\n",
       "    }\n",
       "\n",
       "    .dataframe thead th {\n",
       "        text-align: right;\n",
       "    }\n",
       "</style>\n",
       "<table border=\"1\" class=\"dataframe\">\n",
       "  <thead>\n",
       "    <tr style=\"text-align: right;\">\n",
       "      <th></th>\n",
       "      <th>Pageviews</th>\n",
       "      <th>Clicks</th>\n",
       "      <th>Enrollments</th>\n",
       "      <th>Payments</th>\n",
       "    </tr>\n",
       "  </thead>\n",
       "  <tbody>\n",
       "    <tr>\n",
       "      <th>count</th>\n",
       "      <td>37.000000</td>\n",
       "      <td>37.000000</td>\n",
       "      <td>23.000000</td>\n",
       "      <td>23.000000</td>\n",
       "    </tr>\n",
       "    <tr>\n",
       "      <th>mean</th>\n",
       "      <td>9339.000000</td>\n",
       "      <td>766.972973</td>\n",
       "      <td>164.565217</td>\n",
       "      <td>88.391304</td>\n",
       "    </tr>\n",
       "    <tr>\n",
       "      <th>std</th>\n",
       "      <td>740.239563</td>\n",
       "      <td>68.286767</td>\n",
       "      <td>29.977000</td>\n",
       "      <td>20.650202</td>\n",
       "    </tr>\n",
       "    <tr>\n",
       "      <th>min</th>\n",
       "      <td>7434.000000</td>\n",
       "      <td>632.000000</td>\n",
       "      <td>110.000000</td>\n",
       "      <td>56.000000</td>\n",
       "    </tr>\n",
       "    <tr>\n",
       "      <th>25%</th>\n",
       "      <td>8896.000000</td>\n",
       "      <td>708.000000</td>\n",
       "      <td>146.500000</td>\n",
       "      <td>70.000000</td>\n",
       "    </tr>\n",
       "    <tr>\n",
       "      <th>50%</th>\n",
       "      <td>9420.000000</td>\n",
       "      <td>759.000000</td>\n",
       "      <td>162.000000</td>\n",
       "      <td>91.000000</td>\n",
       "    </tr>\n",
       "    <tr>\n",
       "      <th>75%</th>\n",
       "      <td>9871.000000</td>\n",
       "      <td>825.000000</td>\n",
       "      <td>175.000000</td>\n",
       "      <td>102.500000</td>\n",
       "    </tr>\n",
       "    <tr>\n",
       "      <th>max</th>\n",
       "      <td>10667.000000</td>\n",
       "      <td>909.000000</td>\n",
       "      <td>233.000000</td>\n",
       "      <td>128.000000</td>\n",
       "    </tr>\n",
       "  </tbody>\n",
       "</table>\n",
       "</div>"
      ],
      "text/plain": [
       "          Pageviews      Clicks  Enrollments    Payments\n",
       "count     37.000000   37.000000    23.000000   23.000000\n",
       "mean    9339.000000  766.972973   164.565217   88.391304\n",
       "std      740.239563   68.286767    29.977000   20.650202\n",
       "min     7434.000000  632.000000   110.000000   56.000000\n",
       "25%     8896.000000  708.000000   146.500000   70.000000\n",
       "50%     9420.000000  759.000000   162.000000   91.000000\n",
       "75%     9871.000000  825.000000   175.000000  102.500000\n",
       "max    10667.000000  909.000000   233.000000  128.000000"
      ]
     },
     "execution_count": 44,
     "metadata": {},
     "output_type": "execute_result"
    }
   ],
   "source": [
    "c_std = control_df.describe()\n",
    "c_std"
   ]
  },
  {
   "cell_type": "code",
   "execution_count": 45,
   "id": "2aa48511",
   "metadata": {},
   "outputs": [
    {
     "data": {
      "text/html": [
       "<div>\n",
       "<style scoped>\n",
       "    .dataframe tbody tr th:only-of-type {\n",
       "        vertical-align: middle;\n",
       "    }\n",
       "\n",
       "    .dataframe tbody tr th {\n",
       "        vertical-align: top;\n",
       "    }\n",
       "\n",
       "    .dataframe thead th {\n",
       "        text-align: right;\n",
       "    }\n",
       "</style>\n",
       "<table border=\"1\" class=\"dataframe\">\n",
       "  <thead>\n",
       "    <tr style=\"text-align: right;\">\n",
       "      <th></th>\n",
       "      <th>Pageviews</th>\n",
       "      <th>Clicks</th>\n",
       "      <th>Enrollments</th>\n",
       "      <th>Payments</th>\n",
       "    </tr>\n",
       "  </thead>\n",
       "  <tbody>\n",
       "    <tr>\n",
       "      <th>count</th>\n",
       "      <td>37.000000</td>\n",
       "      <td>37.000000</td>\n",
       "      <td>23.000000</td>\n",
       "      <td>23.000000</td>\n",
       "    </tr>\n",
       "    <tr>\n",
       "      <th>mean</th>\n",
       "      <td>9315.135135</td>\n",
       "      <td>765.540541</td>\n",
       "      <td>148.826087</td>\n",
       "      <td>84.565217</td>\n",
       "    </tr>\n",
       "    <tr>\n",
       "      <th>std</th>\n",
       "      <td>708.070781</td>\n",
       "      <td>64.578374</td>\n",
       "      <td>33.234227</td>\n",
       "      <td>23.060841</td>\n",
       "    </tr>\n",
       "    <tr>\n",
       "      <th>min</th>\n",
       "      <td>7664.000000</td>\n",
       "      <td>642.000000</td>\n",
       "      <td>94.000000</td>\n",
       "      <td>34.000000</td>\n",
       "    </tr>\n",
       "    <tr>\n",
       "      <th>25%</th>\n",
       "      <td>8881.000000</td>\n",
       "      <td>722.000000</td>\n",
       "      <td>127.000000</td>\n",
       "      <td>69.000000</td>\n",
       "    </tr>\n",
       "    <tr>\n",
       "      <th>50%</th>\n",
       "      <td>9359.000000</td>\n",
       "      <td>770.000000</td>\n",
       "      <td>142.000000</td>\n",
       "      <td>91.000000</td>\n",
       "    </tr>\n",
       "    <tr>\n",
       "      <th>75%</th>\n",
       "      <td>9737.000000</td>\n",
       "      <td>827.000000</td>\n",
       "      <td>172.000000</td>\n",
       "      <td>99.000000</td>\n",
       "    </tr>\n",
       "    <tr>\n",
       "      <th>max</th>\n",
       "      <td>10551.000000</td>\n",
       "      <td>884.000000</td>\n",
       "      <td>213.000000</td>\n",
       "      <td>123.000000</td>\n",
       "    </tr>\n",
       "  </tbody>\n",
       "</table>\n",
       "</div>"
      ],
      "text/plain": [
       "          Pageviews      Clicks  Enrollments    Payments\n",
       "count     37.000000   37.000000    23.000000   23.000000\n",
       "mean    9315.135135  765.540541   148.826087   84.565217\n",
       "std      708.070781   64.578374    33.234227   23.060841\n",
       "min     7664.000000  642.000000    94.000000   34.000000\n",
       "25%     8881.000000  722.000000   127.000000   69.000000\n",
       "50%     9359.000000  770.000000   142.000000   91.000000\n",
       "75%     9737.000000  827.000000   172.000000   99.000000\n",
       "max    10551.000000  884.000000   213.000000  123.000000"
      ]
     },
     "execution_count": 45,
     "metadata": {},
     "output_type": "execute_result"
    }
   ],
   "source": [
    "x_std = experiment_df.describe()\n",
    "x_std"
   ]
  },
  {
   "cell_type": "code",
   "execution_count": 46,
   "id": "0f1beda7",
   "metadata": {},
   "outputs": [
    {
     "name": "stdout",
     "output_type": "stream",
     "text": [
      "the control group cookies are 345543 \n",
      "the experiment group cookies are 344660 \n",
      "the control group clicks are 28378 \n",
      "the experiment group clicks are 28325\n"
     ]
    }
   ],
   "source": [
    "pageview_cont = control_df['Pageviews'].sum()\n",
    "pageview_exp = experiment_df['Pageviews'].sum()\n",
    "click_cont = control_df['Clicks'].sum()\n",
    "click_exp = experiment_df['Clicks'].sum()\n",
    "\n",
    "print(\"the control group cookies are\", pageview_cont,\n",
    "      \"\\nthe experiment group cookies are\", pageview_exp,\n",
    "      \"\\nthe control group clicks are\", click_cont,\n",
    "      \"\\nthe experiment group clicks are\", click_exp,)"
   ]
  },
  {
   "cell_type": "code",
   "execution_count": 47,
   "id": "7a40e6ee",
   "metadata": {},
   "outputs": [],
   "source": [
    "from scipy.stats import norm\n",
    "# Inputs:\n",
    "#   The desired alpha for a two-tailed test\n",
    "# Returns: The z-critical value\n",
    "def get_z_star(alpha):\n",
    "    return norm.ppf((1-alpha/2))"
   ]
  },
  {
   "cell_type": "code",
   "execution_count": 62,
   "id": "268c4c2a",
   "metadata": {},
   "outputs": [],
   "source": [
    "#sanity check for clicks and coockies\n",
    "pageview_sd = math.sqrt(0.5*0.5/(pageview_cont+pageview_exp))\n",
    "click_sd = math.sqrt(0.5*0.5/(click_cont+click_exp))\n",
    "\n",
    "def sanity_check(sd,d,alpha):\n",
    "    z = get_z_star(alpha)\n",
    "    m = sd*z\n",
    "    if fraction <= d+m and fraction >= d-m:\n",
    "        print('lower bound: ', d-m,\n",
    "             '\\nupper bound: ', d+m,\n",
    "             '\\nobserved: ', fraction,\n",
    "             '\\npass sanity check')\n",
    "    else:\n",
    "        return \"no pass sanity check\""
   ]
  },
  {
   "cell_type": "code",
   "execution_count": 63,
   "id": "58fadc26",
   "metadata": {},
   "outputs": [
    {
     "name": "stdout",
     "output_type": "stream",
     "text": [
      "lower bound:  0.4988204138245942 \n",
      "upper bound:  0.5011795861754058 \n",
      "observed:  0.5006396668806133 \n",
      "pass sanity check\n"
     ]
    }
   ],
   "source": [
    "fraction = pageview_cont/(pageview_cont+pageview_exp)\n",
    "sanity_check(pageview_sd,0.5,0.05)"
   ]
  },
  {
   "cell_type": "code",
   "execution_count": 64,
   "id": "c6b06094",
   "metadata": {},
   "outputs": [
    {
     "name": "stdout",
     "output_type": "stream",
     "text": [
      "lower bound:  0.4958845713471463 \n",
      "upper bound:  0.5041154286528536 \n",
      "observed:  0.5004673474066628 \n",
      "pass sanity check\n"
     ]
    }
   ],
   "source": [
    "fraction = click_cont/(click_cont+click_exp)\n",
    "sanity_check(click_sd,0.5,0.05)"
   ]
  },
  {
   "cell_type": "code",
   "execution_count": 71,
   "id": "36c83fb0",
   "metadata": {},
   "outputs": [
    {
     "name": "stdout",
     "output_type": "stream",
     "text": [
      "lower bound:  -0.001295655390242568 \n",
      "upper bound:  0.001295655390242568 \n",
      "observed:  5.662709158693602e-05 \n",
      "pass sanity check\n"
     ]
    }
   ],
   "source": [
    "# sanity check for click-through probability\n",
    "pool_p = (click_cont + click_exp) / (pageview_cont + pageview_exp)\n",
    "se_p = math.sqrt(pool_p*(1-pool_p)*(1/pageview_cont + 1/pageview_exp))\n",
    "d = click_exp/pageview_exp - click_cont/pageview_cont\n",
    "z = get_z_star(0.05)\n",
    "if d <= z*se_p and d >= -z*se_p:\n",
    "    print('lower bound: ', -z*se_p,\n",
    "          '\\nupper bound: ', z*se_p,\n",
    "          '\\nobserved: ', d,\n",
    "          '\\npass sanity check')\n",
    "else:\n",
    "    print(\"no pass sanity check\")"
   ]
  },
  {
   "cell_type": "markdown",
   "id": "930d96ea",
   "metadata": {},
   "source": [
    "## Effect Size Test\n",
    "\n",
    "Accroding to the data from Udacity, although in total we have 690,203 pageviews, we miss the last 14 days' enrollment and payment. Because the payment of students who tried for free in last 14 days wasn't trackable, so we will only have 23 days' data and 423,525 pageviews in total."
   ]
  },
  {
   "cell_type": "code",
   "execution_count": 77,
   "id": "3d788def",
   "metadata": {},
   "outputs": [
    {
     "name": "stdout",
     "output_type": "stream",
     "text": [
      "pageviews:  423525 \n",
      "clicks:  34553 \n",
      "enrollments:  7208.0 \n",
      "payments:  3978.0\n"
     ]
    }
   ],
   "source": [
    "# pageviews, clicks, enrollments, and payments in total\n",
    "pageviews = experiment_df['Pageviews'][:23].sum() + control_df['Pageviews'][:23].sum()\n",
    "clicks = experiment_df['Clicks'][:23].sum() + control_df['Clicks'][:23].sum()\n",
    "enrollments = experiment_df['Enrollments'][:23].sum() + control_df['Enrollments'][:23].sum()\n",
    "payments = experiment_df['Payments'][:23].sum() + control_df['Payments'][:23].sum()\n",
    "\n",
    "print(\"pageviews: \",pageviews,\n",
    "     \"\\nclicks: \", clicks,\n",
    "     \"\\nenrollments: \", enrollments,\n",
    "     \"\\npayments: \", payments)"
   ]
  },
  {
   "cell_type": "code",
   "execution_count": 90,
   "id": "797e6aa2",
   "metadata": {},
   "outputs": [],
   "source": [
    "# clicks, enrollments, and payments in control and experiment group\n",
    "clicks_cont = control_df['Clicks'][:23].sum()\n",
    "clicks_exp = experiment_df['Clicks'][:23].sum()\n",
    "enrollments_cont =  control_df['Enrollments'][:23].sum()\n",
    "enrollments_exp = experiment_df['Enrollments'][:23].sum()\n",
    "payments_cont = control_df['Payments'][:23].sum()\n",
    "payments_exp = experiment_df['Payments'][:23].sum()"
   ]
  },
  {
   "cell_type": "code",
   "execution_count": 91,
   "id": "d1a7dda0",
   "metadata": {},
   "outputs": [
    {
     "name": "stdout",
     "output_type": "stream",
     "text": [
      "observed difference in gross conversion:  -0.020554874580361565 \n",
      "observed difference in net conversion:  -0.0048737226745441675\n"
     ]
    }
   ],
   "source": [
    "# gross_conversion = enrollments/clicks\n",
    "# net_conversion = payments/clicks\n",
    "# differences in gross convention and net conversion\n",
    "d_gc = enrollments_exp/clicks_exp - enrollments_cont/clicks_cont\n",
    "d_nc = payments_exp/clicks_exp - payments_cont/clicks_cont\n",
    "\n",
    "print(\"observed difference in gross conversion: \",d_gc,\n",
    "     \"\\nobserved difference in net conversion: \", d_nc,)"
   ]
  },
  {
   "cell_type": "code",
   "execution_count": 92,
   "id": "8f2c8685",
   "metadata": {},
   "outputs": [
    {
     "name": "stdout",
     "output_type": "stream",
     "text": [
      "pool probability of gross conversion:  0.20860706740369866 \n",
      "pool probability of net conversion:  0.1151274853124186\n"
     ]
    }
   ],
   "source": [
    "# pool probability\n",
    "p_pool_gc = (enrollments_exp + enrollments_cont)/(clicks_exp + clicks_cont)\n",
    "p_pool_nc = (payments_exp + payments_cont)/(clicks_exp + clicks_cont)\n",
    "\n",
    "print(\"pool probability of gross conversion: \", p_pool_gc,\n",
    "     \"\\npool probability of net conversion: \", p_pool_nc)"
   ]
  },
  {
   "cell_type": "code",
   "execution_count": 110,
   "id": "6db61071",
   "metadata": {},
   "outputs": [],
   "source": [
    "def result_analysis(p_pool,Nexp,Ncont,d,dmin,alpha):\n",
    "    z = get_z_star(alpha)\n",
    "    se = math.sqrt(p_pool*(1-p_pool)*(1/Nexp + 1/Ncont))\n",
    "    m = z*se\n",
    "    if d > m or d < -m:\n",
    "        print('statistically significant',\n",
    "             '\\nlower bound: ',d-m,\n",
    "             '\\nupper bound: ', d+m)\n",
    "        if dmin > m or dmin < -m:\n",
    "            print('practically significant')\n",
    "        else:\n",
    "            return 'pracatically insignificant'\n",
    "    else:\n",
    "        print('statistically insignificant',\n",
    "             '\\nlower bound: ',d-m,\n",
    "             '\\nupper bound: ', d+m)\n",
    "        if d-m >= dmin or d+m >= dmin:\n",
    "            print('practically significant')\n",
    "        else:\n",
    "            return 'practically insignificant'"
   ]
  },
  {
   "cell_type": "code",
   "execution_count": 111,
   "id": "c98b8fbe",
   "metadata": {},
   "outputs": [
    {
     "name": "stdout",
     "output_type": "stream",
     "text": [
      "statistically significant \n",
      "lower bound:  -0.02912320088750467 \n",
      "upper bound:  -0.011986548273218463\n",
      "practically significant\n"
     ]
    }
   ],
   "source": [
    "# gross conversion dmin=0.01\n",
    "result_analysis(p_pool_gc,clicks_exp,clicks_cont,d_gc,0.01,0.05)"
   ]
  },
  {
   "cell_type": "code",
   "execution_count": 112,
   "id": "d2f09295",
   "metadata": {},
   "outputs": [
    {
     "name": "stdout",
     "output_type": "stream",
     "text": [
      "statistically insignificant \n",
      "lower bound:  -0.011604500677993734 \n",
      "upper bound:  0.0018570553289053993\n"
     ]
    },
    {
     "data": {
      "text/plain": [
       "'practically insignificant'"
      ]
     },
     "execution_count": 112,
     "metadata": {},
     "output_type": "execute_result"
    }
   ],
   "source": [
    "# net conversion dmin=0.0075\n",
    "result_analysis(p_pool_nc,clicks_exp,clicks_cont,d_nc,0.0075,0.05)"
   ]
  },
  {
   "cell_type": "markdown",
   "id": "301a9171",
   "metadata": {},
   "source": [
    "## Sign Test\n",
    "\n",
    "Used the sign test to double check the results."
   ]
  },
  {
   "cell_type": "code",
   "execution_count": 142,
   "id": "e07542ff",
   "metadata": {},
   "outputs": [],
   "source": [
    "from scipy.stats import binom_test \n",
    "\n",
    "alpha = 0.05\n",
    "Beta = 0.2\n",
    "k=0\n",
    "\n",
    "enroll_exp = [i/j for i,j in zip(experiment_df['Enrollments'][:23],experiment_df['Clicks'][:23])]\n",
    "enroll_cont = [i/j for i,j in zip(control_df['Enrollments'][:23],control_df['Clicks'][:23])]\n",
    "pay_exp = [i/j for i,j in zip(experiment_df['Payments'][:23],experiment_df['Clicks'][:23])]\n",
    "pay_cont = [i/j for i,j in zip(control_df['Payments'][:23],control_df['Clicks'][:23])]"
   ]
  },
  {
   "cell_type": "code",
   "execution_count": 152,
   "id": "d771513c",
   "metadata": {},
   "outputs": [
    {
     "name": "stdout",
     "output_type": "stream",
     "text": [
      "19 10\n"
     ]
    }
   ],
   "source": [
    "success_gc = sum([i<j for i,j in zip(enroll_exp,enroll_cont)])\n",
    "success_nc = sum([i>j for i,j in zip(pay_exp,pay_cont)])\n",
    "\n",
    "print(success_gc,success_nc)"
   ]
  },
  {
   "cell_type": "code",
   "execution_count": 150,
   "id": "e5bd13fd",
   "metadata": {},
   "outputs": [
    {
     "name": "stdout",
     "output_type": "stream",
     "text": [
      "gross conversion p-value:  0.002599477767944336 \n",
      "statistically significant:  True\n"
     ]
    }
   ],
   "source": [
    "p_value = binom_test(success_gc,n=23,p=0.5)\n",
    "print('gross conversion p-value: ', p_value,\n",
    "     '\\nstatistically significant: ', p_value<alpha)"
   ]
  },
  {
   "cell_type": "code",
   "execution_count": 151,
   "id": "9d3f8127",
   "metadata": {},
   "outputs": [
    {
     "name": "stdout",
     "output_type": "stream",
     "text": [
      "net conversion p-value:  0.6776394844055176 \n",
      "statistically significant:  False\n"
     ]
    }
   ],
   "source": [
    "p_value = binom_test(success_nc,n=23,p=0.5)\n",
    "print('net conversion p-value: ', p_value,\n",
    "     '\\nstatistically significant: ', p_value<alpha)"
   ]
  }
 ],
 "metadata": {
  "kernelspec": {
   "display_name": "mlenv",
   "language": "python",
   "name": "mlenv"
  },
  "language_info": {
   "codemirror_mode": {
    "name": "ipython",
    "version": 3
   },
   "file_extension": ".py",
   "mimetype": "text/x-python",
   "name": "python",
   "nbconvert_exporter": "python",
   "pygments_lexer": "ipython3",
   "version": "3.7.11"
  }
 },
 "nbformat": 4,
 "nbformat_minor": 5
}
